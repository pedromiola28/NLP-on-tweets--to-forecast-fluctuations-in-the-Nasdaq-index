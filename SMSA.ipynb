{
  "nbformat": 4,
  "nbformat_minor": 0,
  "metadata": {
    "colab": {
      "provenance": [],
      "collapsed_sections": [
        "VR7MHLu1IxOh",
        "awAC6I-8DfuY",
        "1oP74tzzpX-w",
        "QuCQpyEZj709"
      ],
      "authorship_tag": "ABX9TyMNMH/U0q7PHUoRmoyJmNf1",
      "include_colab_link": true
    },
    "kernelspec": {
      "name": "python3",
      "display_name": "Python 3"
    },
    "language_info": {
      "name": "python"
    }
  },
  "cells": [
    {
      "cell_type": "markdown",
      "metadata": {
        "id": "view-in-github",
        "colab_type": "text"
      },
      "source": [
        "<a href=\"https://colab.research.google.com/github/pedromiola28/NLP-on-tweets--to-forecast-fluctuations-in-the-Nasdaq-index/blob/main/SMSA.ipynb\" target=\"_parent\"><img src=\"https://colab.research.google.com/assets/colab-badge.svg\" alt=\"Open In Colab\"/></a>"
      ]
    },
    {
      "cell_type": "markdown",
      "source": [
        "The hypothesis for this project is that we can find a relation between tweets posted and stock exchange fluctuation one day after the post."
      ],
      "metadata": {
        "id": "VhXDOEdWhJIU"
      }
    },
    {
      "cell_type": "code",
      "source": [
        "!pip install yfinance"
      ],
      "metadata": {
        "colab": {
          "base_uri": "https://localhost:8080/"
        },
        "id": "sgfSHMRK-Ked",
        "outputId": "79195406-9282-4383-dc3f-8cd3714b436c"
      },
      "execution_count": 1,
      "outputs": [
        {
          "output_type": "stream",
          "name": "stdout",
          "text": [
            "Looking in indexes: https://pypi.org/simple, https://us-python.pkg.dev/colab-wheels/public/simple/\n",
            "Collecting yfinance\n",
            "  Downloading yfinance-0.1.74-py2.py3-none-any.whl (27 kB)\n",
            "Requirement already satisfied: lxml>=4.5.1 in /usr/local/lib/python3.7/dist-packages (from yfinance) (4.9.1)\n",
            "Collecting requests>=2.26\n",
            "  Downloading requests-2.28.1-py3-none-any.whl (62 kB)\n",
            "\u001b[K     |████████████████████████████████| 62 kB 904 kB/s \n",
            "\u001b[?25hRequirement already satisfied: pandas>=0.24.0 in /usr/local/lib/python3.7/dist-packages (from yfinance) (1.3.5)\n",
            "Requirement already satisfied: numpy>=1.15 in /usr/local/lib/python3.7/dist-packages (from yfinance) (1.21.6)\n",
            "Requirement already satisfied: multitasking>=0.0.7 in /usr/local/lib/python3.7/dist-packages (from yfinance) (0.0.11)\n",
            "Requirement already satisfied: python-dateutil>=2.7.3 in /usr/local/lib/python3.7/dist-packages (from pandas>=0.24.0->yfinance) (2.8.2)\n",
            "Requirement already satisfied: pytz>=2017.3 in /usr/local/lib/python3.7/dist-packages (from pandas>=0.24.0->yfinance) (2022.2.1)\n",
            "Requirement already satisfied: six>=1.5 in /usr/local/lib/python3.7/dist-packages (from python-dateutil>=2.7.3->pandas>=0.24.0->yfinance) (1.15.0)\n",
            "Requirement already satisfied: idna<4,>=2.5 in /usr/local/lib/python3.7/dist-packages (from requests>=2.26->yfinance) (2.10)\n",
            "Requirement already satisfied: charset-normalizer<3,>=2 in /usr/local/lib/python3.7/dist-packages (from requests>=2.26->yfinance) (2.1.1)\n",
            "Requirement already satisfied: urllib3<1.27,>=1.21.1 in /usr/local/lib/python3.7/dist-packages (from requests>=2.26->yfinance) (1.24.3)\n",
            "Requirement already satisfied: certifi>=2017.4.17 in /usr/local/lib/python3.7/dist-packages (from requests>=2.26->yfinance) (2022.6.15)\n",
            "Installing collected packages: requests, yfinance\n",
            "  Attempting uninstall: requests\n",
            "    Found existing installation: requests 2.23.0\n",
            "    Uninstalling requests-2.23.0:\n",
            "      Successfully uninstalled requests-2.23.0\n",
            "Successfully installed requests-2.28.1 yfinance-0.1.74\n"
          ]
        }
      ]
    },
    {
      "cell_type": "code",
      "execution_count": 2,
      "metadata": {
        "colab": {
          "base_uri": "https://localhost:8080/"
        },
        "id": "rEOM6Mw0wc4a",
        "outputId": "6a5bd7e0-e725-4c6c-bdf3-b028167a3bfd"
      },
      "outputs": [
        {
          "output_type": "stream",
          "name": "stdout",
          "text": [
            "Mounted at /content/drive\n"
          ]
        }
      ],
      "source": [
        "import pandas as pd\n",
        "from sklearn.model_selection import train_test_split\n",
        "import matplotlib.pyplot as plt\n",
        "import keras\n",
        "\n",
        "import numpy as np\n",
        "\n",
        "from google.colab import drive\n",
        "drive.mount('/content/drive')\n",
        "path = r'/content/drive/My Drive/Dataset/Dataset - Compilado.xlsx'"
      ]
    },
    {
      "cell_type": "markdown",
      "source": [
        "# Data pre-processing"
      ],
      "metadata": {
        "id": "VR7MHLu1IxOh"
      }
    },
    {
      "cell_type": "code",
      "source": [
        "import regex as re\n",
        "import nltk.corpus\n",
        "import gensim.parsing.preprocessing \n",
        "nltk.download('stopwords')\n",
        "from nltk.corpus import stopwords"
      ],
      "metadata": {
        "id": "ekhv6WOgP8Qn",
        "colab": {
          "base_uri": "https://localhost:8080/"
        },
        "outputId": "90f54266-cb34-4501-f21d-c13c15f2b08e"
      },
      "execution_count": 3,
      "outputs": [
        {
          "output_type": "stream",
          "name": "stderr",
          "text": [
            "[nltk_data] Downloading package stopwords to /root/nltk_data...\n",
            "[nltk_data]   Unzipping corpora/stopwords.zip.\n"
          ]
        }
      ]
    },
    {
      "cell_type": "code",
      "source": [
        "#Stopwords have no useful meaning, so we must remove them\n",
        "stop = stopwords.words('english') \n",
        "\n",
        "#Function to clean the data, removing all symbols and numbers\n",
        "def limpar(frase): \n",
        "  frase = re.sub(r'[^A-Za-z]', ' ', frase)\n",
        "  frase = frase.lower()\n",
        "  frase = \" \".join([word for word in frase.split() if word not in (stop)])\n",
        "  return(frase)"
      ],
      "metadata": {
        "id": "7WD_8aFIeArr"
      },
      "execution_count": 4,
      "outputs": []
    },
    {
      "cell_type": "code",
      "source": [
        "#Acessing the data \n",
        "df = pd.read_excel(path) \n",
        "dados = pd.DataFrame(df)"
      ],
      "metadata": {
        "id": "2GIutV22I0D0"
      },
      "execution_count": 5,
      "outputs": []
    },
    {
      "cell_type": "code",
      "source": [
        "#Creating a dictionary and a function to change the data format\n",
        "data_dict = {'abr':'04', 'mai':'05', 'jun':'06', 'jul':'07', 'ago':'08', 'set':'09', 'out':'10'}\n",
        "\n",
        "def mod_data(data):\n",
        "  mes = data[-3:]\n",
        "  data = data.replace(' de ', '/')\n",
        "  data = data.replace(mes, data_dict[mes])\n",
        "  if len(data)<5:\n",
        "    data = '0'+data\n",
        "  data = pd.to_datetime(data+'/2020', format='%d/%m/%Y')\n",
        "  return(data)"
      ],
      "metadata": {
        "id": "bQf4Odyhqabt"
      },
      "execution_count": 6,
      "outputs": []
    },
    {
      "cell_type": "code",
      "source": [
        "for i in range (0, len(dados)):\n",
        "  dados['DATA'][i] = mod_data(dados['DATA'][i])"
      ],
      "metadata": {
        "id": "U7uNU4UXsI8s",
        "colab": {
          "base_uri": "https://localhost:8080/"
        },
        "outputId": "da7da239-b8f5-4ce3-d825-9fc1c07909e8"
      },
      "execution_count": 7,
      "outputs": [
        {
          "output_type": "stream",
          "name": "stderr",
          "text": [
            "/usr/local/lib/python3.7/dist-packages/ipykernel_launcher.py:2: SettingWithCopyWarning: \n",
            "A value is trying to be set on a copy of a slice from a DataFrame\n",
            "\n",
            "See the caveats in the documentation: https://pandas.pydata.org/pandas-docs/stable/user_guide/indexing.html#returning-a-view-versus-a-copy\n",
            "  \n"
          ]
        }
      ]
    },
    {
      "cell_type": "code",
      "source": [
        "#Joining all the tweets by publishing data. This is possible because for \n",
        "# Bag of Words it wont matter the order of the words, just the words themselves.\n",
        "dados = dados.sort_values('DATA')\n",
        "frases_comp_data = []\n",
        "frase = ''\n",
        "for i in range(0, len(dados)-1):\n",
        "  a = dados['DATA'][i]\n",
        "  frase = frase + ' ' + str(dados['Texto'][i])\n",
        "  if str(a) != str(dados['DATA'][i+1]):\n",
        "    frases_comp_data.append([a, frase])\n",
        "    frase = ''"
      ],
      "metadata": {
        "id": "7EnvPr1HNmxJ"
      },
      "execution_count": 8,
      "outputs": []
    },
    {
      "cell_type": "code",
      "source": [
        "#Cleaning and sorting data\n",
        "for i in range(0, len(frases_comp_data)):\n",
        "    frases_comp_data[i][1] = limpar(frases_comp_data[i][1])\n",
        "\n",
        "frases_comp_data.sort()"
      ],
      "metadata": {
        "id": "gE5ZbpfipNm2"
      },
      "execution_count": 9,
      "outputs": []
    },
    {
      "cell_type": "markdown",
      "source": [
        "# Labelling"
      ],
      "metadata": {
        "id": "awAC6I-8DfuY"
      }
    },
    {
      "cell_type": "code",
      "source": [
        "import datetime\n",
        "import yfinance as yf\n",
        "import matplotlib.pyplot as plt"
      ],
      "metadata": {
        "id": "HjEmMW9qFphp"
      },
      "execution_count": 10,
      "outputs": []
    },
    {
      "cell_type": "code",
      "source": [
        "#Changing the date that the tweet was posted to the date after, to facilitate labelling. Friday, Saturday and Sunday were changed to monday,\n",
        "# considering that information on this day affects the market on monday.\n",
        "for i in range(0, len(frases_comp_data)):\n",
        "  d_semana = frases_comp_data[i][0].weekday()\n",
        "  if d_semana == 5:\n",
        "    frases_comp_data[i][0] = frases_comp_data[i][0] + datetime.timedelta(days=2)\n",
        "  elif d_semana == 4:\n",
        "    frases_comp_data[i][0] = frases_comp_data[i][0] + datetime.timedelta(days=3)\n",
        "  else:\n",
        "    frases_comp_data[i][0] = frases_comp_data[i][0] + datetime.timedelta(days=1)"
      ],
      "metadata": {
        "id": "CUGWhU--MWBB"
      },
      "execution_count": 11,
      "outputs": []
    },
    {
      "cell_type": "code",
      "source": [
        "#Collecting the historical value of Nasdaq, Dow Jones and S&P500, in a 6 month period of time.\n",
        "nasdaq = yf.Ticker('^IXIC').history(start='2020-04-01',\n",
        "                                    end='2020-10-01',\n",
        "                                    interval='1d', \n",
        "                                    actions=False,)\n",
        "\n",
        "dowjones = yf.Ticker('^DJI').history(start='2020-04-01',\n",
        "                                     end='2020-10-01',\n",
        "                                     interval='1d', \n",
        "                                     actions=False,)\n",
        "\n",
        "SP500 = yf.Ticker('^GSPC').history(start='2020-04-01',\n",
        "                                    end='2020-10-01',\n",
        "                                    interval='1d', \n",
        "                                    actions=False,)"
      ],
      "metadata": {
        "id": "6Fy9x1ZEVIGr"
      },
      "execution_count": 12,
      "outputs": []
    },
    {
      "cell_type": "code",
      "source": [
        "#To this classification problem, we are only interested in up's and down's from the market. Thus,\n",
        "# we must create lists to store this values. 0 is for down (bear market) and 1 is for up (bull market).\n",
        "nasd_lab, dj_lab, sp_lab = [], [], []\n",
        "\n",
        "for i in range(0, len(nasdaq)):\n",
        "    dif1 = nasdaq['Close'] - nasdaq['Open']\n",
        "    if dif1[i] > 0:\n",
        "      nasd_lab.append(1)\n",
        "    else:\n",
        "      nasd_lab.append(0)\n",
        "\n",
        "for i in range(0, len(dowjones)):\n",
        "    dif2 = dowjones['Close'] - dowjones['Open']\n",
        "    if dif2[i] > 0:\n",
        "      dj_lab.append(1)\n",
        "    else:\n",
        "      dj_lab.append(0)\n",
        "\n",
        "for i in range(0, len(SP500)):\n",
        "    dif3 = SP500['Close'] - SP500['Open']\n",
        "    if dif3[i] > 0:\n",
        "      sp_lab.append(1)\n",
        "    else:\n",
        "      sp_lab.append(0)"
      ],
      "metadata": {
        "id": "1hFA_YOxN8yv"
      },
      "execution_count": 13,
      "outputs": []
    },
    {
      "cell_type": "code",
      "source": [
        "df_labels = []\n",
        "for i in range(0, len(nasdaq)):\n",
        "  df_labels.append([nasdaq.axes[0][i], nasd_lab[i], dj_lab[i], sp_lab[i]])"
      ],
      "metadata": {
        "id": "p2EdQS7gW_H9"
      },
      "execution_count": 14,
      "outputs": []
    },
    {
      "cell_type": "code",
      "source": [
        "#Creating a dataset with all the information that we need: the date, all the tweets posted in one string and the binary labels\n",
        "dataset = []\n",
        "\n",
        "for i in range(0, len(frases_comp_data)):\n",
        "  \n",
        "  dia = frases_comp_data[i][0]\n",
        "  palavras = frases_comp_data[i][1]\n",
        "\n",
        "  for j in range(0, len(df_labels)):\n",
        "    if dia == df_labels[j][0]:\n",
        "      label = df_labels[j]\n",
        "  dataset.append([dia, palavras, label[1], label[2], label[3]])\n",
        "\n",
        "dataset = pd.DataFrame(dataset)\n",
        "dataset.columns=['Data','sentences','Nasdaq','Dow Jones','SP500']"
      ],
      "metadata": {
        "id": "aGjlVFMuIso3"
      },
      "execution_count": 15,
      "outputs": []
    },
    {
      "cell_type": "markdown",
      "source": [
        "#Classification"
      ],
      "metadata": {
        "id": "1oP74tzzpX-w"
      }
    },
    {
      "cell_type": "code",
      "source": [
        "from sklearn.feature_extraction.text import CountVectorizer\n",
        "from sklearn import metrics\n",
        "from sklearn.naive_bayes import ComplementNB\n",
        "from xgboost import XGBClassifier\n",
        "from sklearn.metrics import ConfusionMatrixDisplay"
      ],
      "metadata": {
        "id": "uRjaIVz_paVh"
      },
      "execution_count": 16,
      "outputs": []
    },
    {
      "cell_type": "code",
      "source": [
        "#Spliting the dataset columns\n",
        "sentences = dataset.iloc[:,1:2].squeeze()\n",
        "\n",
        "labels_nsq = dataset.iloc[:,2:3].squeeze()\n",
        "labels_dj = dataset.iloc[:,3:4].squeeze()\n",
        "labels_sp = dataset.iloc[:,4:5].squeeze()"
      ],
      "metadata": {
        "id": "BPSqKVmpX1UO"
      },
      "execution_count": 17,
      "outputs": []
    },
    {
      "cell_type": "code",
      "source": [
        "#Using data from Nasdaq and spliting test and training data\n",
        "sentences_train, sentences_test, y_train, y_test = train_test_split(sentences, labels_nsq, test_size = 0.25, random_state = 1000)"
      ],
      "metadata": {
        "id": "HnZ_qpPAZfTV"
      },
      "execution_count": 18,
      "outputs": []
    },
    {
      "cell_type": "code",
      "source": [
        "#To obtain the best results possible, we should create a for loop to test different frequencies in the word vectorizer.\n",
        "#Complement Naive Bayes was used because it is suited for a imbalanced dataset, which is the case.\n",
        "clf_nb = ComplementNB(alpha=0.3)\n",
        "score = []\n",
        "pred = []\n",
        "for i in range(1, 30):\n",
        "  vect = CountVectorizer(min_df=i)\n",
        "  x_train = vect.fit_transform(sentences_train)\n",
        "  x_test = vect.transform(sentences_test)\n",
        "\n",
        "  feature_names = vect.get_feature_names_out\n",
        "  clf_nb.fit(x_train, y_train)\n",
        "  pred_nb = clf_nb.predict(x_test)\n",
        "  score_nb = metrics.accuracy_score(y_test, pred_nb)\n",
        "  score.append(score_nb)\n",
        "  pred.append(pred_nb)"
      ],
      "metadata": {
        "id": "gZeITM7bUqKO"
      },
      "execution_count": 19,
      "outputs": []
    },
    {
      "cell_type": "code",
      "source": [
        "print('Model Accuracy: ' + str(max(score)))"
      ],
      "metadata": {
        "colab": {
          "base_uri": "https://localhost:8080/"
        },
        "id": "oitcaHx8W9hl",
        "outputId": "84191e99-742c-4f42-d2d9-0c87ae44a952"
      },
      "execution_count": 20,
      "outputs": [
        {
          "output_type": "stream",
          "name": "stdout",
          "text": [
            "Model Accuracy: 0.6956521739130435\n"
          ]
        }
      ]
    },
    {
      "cell_type": "code",
      "source": [
        "#Assigning the most accurate prediction to pred_nb\n",
        "pred_nb = pred[score.index(max(score))]"
      ],
      "metadata": {
        "id": "7U-mfkMaWhOO"
      },
      "execution_count": 21,
      "outputs": []
    },
    {
      "cell_type": "code",
      "source": [
        "#Confusion matrix\n",
        "target_names = ['Negative','Positive']\n",
        "fig, ax = plt.subplots(figsize=(10, 5))\n",
        "ConfusionMatrixDisplay.from_predictions(y_test, pred_nb, ax=ax)\n",
        "ax.xaxis.set_ticklabels(target_names)\n",
        "ax.yaxis.set_ticklabels(target_names)\n",
        "_ = ax.set_title(\n",
        "    f\"Confusion Matrix for Naive Bayes\"\n",
        ")"
      ],
      "metadata": {
        "id": "T2brIkJB4t4O",
        "colab": {
          "base_uri": "https://localhost:8080/",
          "height": 0
        },
        "outputId": "9874e3bd-1356-4a5f-d5ae-fd18deecfe5c"
      },
      "execution_count": 22,
      "outputs": [
        {
          "output_type": "display_data",
          "data": {
            "text/plain": [
              "<Figure size 720x360 with 2 Axes>"
            ],
            "image/png": "[encoded data removed]"
          },
          "metadata": {
            "needs_background": "light"
          }
        }
      ]
    },
    {
      "cell_type": "markdown",
      "source": [
        "With the confusion matrix we can see that the prediction is very inaccurate in negative days. To improve this, two approaches were made: assigning weights to the classes and removing data, both to balance the classes."
      ],
      "metadata": {
        "id": "pugJnLAn50S1"
      }
    },
    {
      "cell_type": "markdown",
      "source": [
        "#Classification - Assigning Weights"
      ],
      "metadata": {
        "id": "GDbhd0Udd4Hk"
      }
    },
    {
      "cell_type": "code",
      "source": [
        "from sklearn.utils import class_weight"
      ],
      "metadata": {
        "id": "arMJfS_B7AEd"
      },
      "execution_count": 23,
      "outputs": []
    },
    {
      "cell_type": "code",
      "source": [
        "sentences = dataset.iloc[:,1:2].squeeze()\n",
        "\n",
        "labels_nsq = dataset.iloc[:,2:3].squeeze()\n",
        "labels_dj = dataset.iloc[:,3:4].squeeze()\n",
        "labels_sp = dataset.iloc[:,4:5].squeeze()"
      ],
      "metadata": {
        "id": "d9kI1jyEd4Hm"
      },
      "execution_count": 24,
      "outputs": []
    },
    {
      "cell_type": "code",
      "source": [
        "sentences_train, sentences_test, y_train, y_test = train_test_split(sentences, labels_nsq, test_size = 0.25, random_state = 1000)"
      ],
      "metadata": {
        "id": "WGzQfI0fd4Hn"
      },
      "execution_count": 25,
      "outputs": []
    },
    {
      "cell_type": "code",
      "source": [
        "#Create weights based on the frequency of the labels\n",
        "sample_weights = class_weight.compute_sample_weight(class_weight = 'balanced', \n",
        "                                                  y = y_train)"
      ],
      "metadata": {
        "id": "slX2Wqn3d4Hn"
      },
      "execution_count": 26,
      "outputs": []
    },
    {
      "cell_type": "code",
      "source": [
        "clf_nb = ComplementNB(alpha=0.3)\n",
        "score = []\n",
        "pred = []\n",
        "for i in range(1, 30):\n",
        "  vect = CountVectorizer(min_df=i)\n",
        "  x_train = vect.fit_transform(sentences_train)\n",
        "  x_test = vect.transform(sentences_test)\n",
        "\n",
        "  feature_names = vect.get_feature_names_out\n",
        "  #The weights must be assigned during the fitting process\n",
        "  clf_nb.fit(x_train, y_train, sample_weight=sample_weights)\n",
        "  pred_nb = clf_nb.predict(x_test)\n",
        "  score_nb = metrics.accuracy_score(y_test, pred_nb)\n",
        "  score.append(score_nb)\n",
        "  pred.append(pred_nb)"
      ],
      "metadata": {
        "id": "meuq5cDEd4Ho"
      },
      "execution_count": 27,
      "outputs": []
    },
    {
      "cell_type": "code",
      "source": [
        "print('Model Accuracy: ' + str(max(score)))"
      ],
      "metadata": {
        "colab": {
          "base_uri": "https://localhost:8080/"
        },
        "outputId": "ab23acd4-1ea5-47cb-97ef-7e7a6a2f0da1",
        "id": "bv5W02nXd4Hp"
      },
      "execution_count": 28,
      "outputs": [
        {
          "output_type": "stream",
          "name": "stdout",
          "text": [
            "Model Accuracy: 0.6956521739130435\n"
          ]
        }
      ]
    },
    {
      "cell_type": "code",
      "source": [
        "pred_nb = pred[score.index(max(score))]"
      ],
      "metadata": {
        "id": "ViVFKDWJd4Hq"
      },
      "execution_count": 29,
      "outputs": []
    },
    {
      "cell_type": "code",
      "source": [
        "from sklearn.metrics import ConfusionMatrixDisplay\n",
        "target_names = ['Negative','Positive']\n",
        "fig, ax = plt.subplots(figsize=(10, 5))\n",
        "ConfusionMatrixDisplay.from_predictions(y_test, pred_nb, ax=ax)\n",
        "ax.xaxis.set_ticklabels(target_names)\n",
        "ax.yaxis.set_ticklabels(target_names)\n",
        "_ = ax.set_title(\n",
        "    f\"Confusion Matrix for Naive Bayes - Assigned weights\"\n",
        ")"
      ],
      "metadata": {
        "colab": {
          "base_uri": "https://localhost:8080/",
          "height": 0
        },
        "outputId": "9479023c-688d-481c-e058-3a2cc0af597e",
        "id": "niT_0Idsd4Hq"
      },
      "execution_count": 30,
      "outputs": [
        {
          "output_type": "display_data",
          "data": {
            "text/plain": [
              "<Figure size 720x360 with 2 Axes>"
            ],
            "image/png": "[encoded data removed]"
          },
          "metadata": {
            "needs_background": "light"
          }
        }
      ]
    },
    {
      "cell_type": "markdown",
      "source": [
        "#Classification - Removing data"
      ],
      "metadata": {
        "id": "QuCQpyEZj709"
      }
    },
    {
      "cell_type": "code",
      "source": [
        "#Spliting the dataset columns\n",
        "sentences = dataset.iloc[:,1:2].squeeze()\n",
        "\n",
        "labels_nsq = dataset.iloc[:,2:3].squeeze()\n",
        "labels_dj = dataset.iloc[:,3:4].squeeze()\n",
        "labels_sp = dataset.iloc[:,4:5].squeeze()"
      ],
      "metadata": {
        "id": "ZZsVzHu9FVKc"
      },
      "execution_count": 31,
      "outputs": []
    },
    {
      "cell_type": "code",
      "source": [
        "#Evaluate how many positive days (Nasdaq) there are in the dataset.\n",
        "j = []\n",
        "for i in range(0, len(labels_nsq)):\n",
        "    if labels_nsq[i]==1:\n",
        "      j.append(1)\n",
        "\n",
        "j = len(j)\n",
        "j"
      ],
      "metadata": {
        "colab": {
          "base_uri": "https://localhost:8080/"
        },
        "id": "LCgnYO9xExEV",
        "outputId": "5b8788f4-b67a-44a5-af8a-49993b5b0cdf"
      },
      "execution_count": 32,
      "outputs": [
        {
          "output_type": "execute_result",
          "data": {
            "text/plain": [
              "122"
            ]
          },
          "metadata": {},
          "execution_count": 32
        }
      ]
    },
    {
      "cell_type": "code",
      "source": [
        "#Sort dataset by label\n",
        "dataset_nsq = dataset.sort_values(by='Nasdaq')"
      ],
      "metadata": {
        "id": "wtONjZbaj9hE"
      },
      "execution_count": 33,
      "outputs": []
    },
    {
      "cell_type": "code",
      "source": [
        "#Remove data to balance classes\n",
        "a = 2*(len(dataset) - j)\n",
        "\n",
        "sentences = dataset_nsq.iloc[:int(a),1:2].squeeze()\n",
        "\n",
        "labels_nsq = dataset_nsq.iloc[:int(a),2:3].squeeze()"
      ],
      "metadata": {
        "id": "QzRrQnTIEuuV"
      },
      "execution_count": 34,
      "outputs": []
    },
    {
      "cell_type": "code",
      "source": [
        "#Using data from Nasdaq and spliting test and training data\n",
        "sentences_train, sentences_test, y_train, y_test = train_test_split(sentences, labels_nsq, test_size = 0.25, random_state = 800)"
      ],
      "metadata": {
        "id": "G5frNDu_F5o8"
      },
      "execution_count": 35,
      "outputs": []
    },
    {
      "cell_type": "code",
      "source": [
        "score = []\n",
        "pred = []\n",
        "for i in range(1, 30):\n",
        "  vect = CountVectorizer(min_df=i)\n",
        "  x_train = vect.fit_transform(sentences_train)\n",
        "  x_test = vect.transform(sentences_test)\n",
        "\n",
        "  feature_names = vect.get_feature_names_out\n",
        "  clf_nb.fit(x_train, y_train)\n",
        "  pred_nb = clf_nb.predict(x_test)\n",
        "  score_nb = metrics.accuracy_score(y_test, pred_nb)\n",
        "  score.append(score_nb)\n",
        "  pred.append(pred_nb)"
      ],
      "metadata": {
        "id": "8smQnAmPXt91"
      },
      "execution_count": 36,
      "outputs": []
    },
    {
      "cell_type": "code",
      "source": [
        "print('Model Accuracy: ' + str(max(score)))"
      ],
      "metadata": {
        "colab": {
          "base_uri": "https://localhost:8080/"
        },
        "id": "IS0snAVXXtZm",
        "outputId": "6536b779-4b9e-46f2-d4f9-64078d9b0a0a"
      },
      "execution_count": 37,
      "outputs": [
        {
          "output_type": "stream",
          "name": "stdout",
          "text": [
            "Model Accuracy: 0.7666666666666667\n"
          ]
        }
      ]
    },
    {
      "cell_type": "code",
      "source": [
        "#Assigning the most accurate prediction to pred_nb\n",
        "pred_nb = pred[score.index(max(score))]"
      ],
      "metadata": {
        "id": "xHrl2liHXtwr"
      },
      "execution_count": 38,
      "outputs": []
    },
    {
      "cell_type": "code",
      "source": [
        "from sklearn.metrics import ConfusionMatrixDisplay\n",
        "target_names = ['Negative','Positive']\n",
        "fig, ax = plt.subplots(figsize=(10, 5))\n",
        "ConfusionMatrixDisplay.from_predictions(y_test, pred_nb, ax=ax)\n",
        "ax.xaxis.set_ticklabels(target_names)\n",
        "ax.yaxis.set_ticklabels(target_names)\n",
        "_ = ax.set_title(\n",
        "    f\"Confusion Matrix for Naive Bayes - Decreased Dataset\"\n",
        ")"
      ],
      "metadata": {
        "colab": {
          "base_uri": "https://localhost:8080/",
          "height": 0
        },
        "id": "Bf6KQhG4F-he",
        "outputId": "e091c558-c0d4-4df3-99ef-226c3c4dce08"
      },
      "execution_count": 39,
      "outputs": [
        {
          "output_type": "display_data",
          "data": {
            "text/plain": [
              "<Figure size 720x360 with 2 Axes>"
            ],
            "image/png": "[encoded data removed]"
          },
          "metadata": {
            "needs_background": "light"
          }
        }
      ]
    }
  ]
}